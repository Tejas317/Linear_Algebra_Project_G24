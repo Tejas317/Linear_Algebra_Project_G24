{
 "cells": [
  {
   "cell_type": "code",
   "execution_count": 3,
   "id": "05681ffd",
   "metadata": {},
   "outputs": [],
   "source": [
    "import numpy as np\n",
    "import pandas as pd\n",
    "from matplotlib import pyplot as plt\n",
    "\n",
    "data = pd.read_csv('NNtrain.csv')"
   ]
  },
  {
   "cell_type": "code",
   "execution_count": 15,
   "id": "0abc26ba",
   "metadata": {},
   "outputs": [],
   "source": [
    "data = np.array(data)\n",
    "m, n = data.shape\n",
    "np.random.shuffle(data)\n",
    "\n",
    "data_dev = data[0:1000].T\n",
    "Y_dev = data_dev[0]\n",
    "X_dev = data_dev[1:n]\n",
    "X_dev = X_dev / 255.\n",
    "\n",
    "data_train = data[1000:m].T\n",
    "Y_train = data_train[0]\n",
    "X_train = data_train[1:n]\n",
    "X_train = X_train / 255.\n",
    "_,m_train = X_train.shape"
   ]
  },
  {
   "cell_type": "code",
   "execution_count": 22,
   "id": "adfe408f",
   "metadata": {},
   "outputs": [],
   "source": [
    "def init_parameters():\n",
    "    W1 = np.random.rand(10, 784) - 0.5\n",
    "    b1 = np.random.rand(10, 1) - 0.5\n",
    "    W2 = np.random.rand(10, 10) - 0.5\n",
    "    b2 = np.random.rand(10, 1) - 0.5\n",
    "    return W1, b1, W2, b2\n",
    "\n",
    "def relU(Z):\n",
    "    return np.maximum(Z, 0)\n",
    "\n",
    "def softMax(Z):\n",
    "    A = np.exp(Z) / sum(np.exp(Z))\n",
    "    return A\n",
    "    \n",
    "def relU_derivative(Z):\n",
    "    return Z > 0\n",
    "\n",
    "def one_hot_en(Y):\n",
    "    one_hot_en_Y = np.zeros((Y.size, Y.max() + 1))\n",
    "    one_hot_en_Y[np.arange(Y.size), Y] = 1\n",
    "    one_hot_en_Y = one_hot_en_Y.T\n",
    "    return one_hot_en_Y\n",
    "\n",
    "def forward_propogation(W1, b1, W2, b2, X):\n",
    "    Z1 = W1.dot(X) + b1\n",
    "    A1 = relU(Z1)\n",
    "    Z2 = W2.dot(A1) + b2\n",
    "    A2 = softMax(Z2)\n",
    "    return Z1, A1, Z2, A2\n",
    "\n",
    "def backward_propogation(Z1, A1, Z2, A2, W1, W2, X, Y):\n",
    "    one_hot_en_Y = one_hot_en(Y)\n",
    "    dZ2 = A2 - one_hot_en_Y\n",
    "    dW2 = 1 / m * dZ2.dot(A1.T)\n",
    "    db2 = 1 / m * np.sum(dZ2)\n",
    "    dZ1 = W2.T.dot(dZ2) * relU_derivative(Z1)\n",
    "    dW1 = 1 / m * dZ1.dot(X.T)\n",
    "    db1 = 1 / m * np.sum(dZ1)\n",
    "    return dW1, db1, dW2, db2\n",
    "\n",
    "def update_parameters(W1, b1, W2, b2, dW1, db1, dW2, db2, alpha):\n",
    "    W1 = W1 - alpha * dW1\n",
    "    b1 = b1 - alpha * db1    \n",
    "    W2 = W2 - alpha * dW2  \n",
    "    b2 = b2 - alpha * db2    \n",
    "    return W1, b1, W2, b2\n",
    "\n",
    "def get_predictions(A2):\n",
    "    return np.argmax(A2, 0)\n",
    "\n",
    "def get_accuracy(predictions, Y):\n",
    "    print(predictions, Y)\n",
    "    return np.sum(predictions == Y) / Y.size\n",
    "\n",
    "def gradient_descent(X, Y, alpha, iterations):\n",
    "    W1, b1, W2, b2 = init_parameters()\n",
    "    for i in range(iterations):\n",
    "        Z1, A1, Z2, A2 = forward_propogation(W1, b1, W2, b2, X)\n",
    "        dW1, db1, dW2, db2 = backward_propogation(Z1, A1, Z2, A2, W1, W2, X, Y)\n",
    "        W1, b1, W2, b2 = update_parameters(W1, b1, W2, b2, dW1, db1, dW2, db2, alpha)\n",
    "        if i % 10 == 0:\n",
    "            print(\"Iteration: \", i)\n",
    "            predictions = get_predictions(A2)\n",
    "            print(get_accuracy(predictions, Y))\n",
    "    return W1, b1, W2, b2\n",
    "\n",
    "def make_predictions(X, W1, b1, W2, b2):\n",
    "    _, _, _, A2 = forward_propogation(W1, b1, W2, b2, X)\n",
    "    predictions = get_predictions(A2)\n",
    "    return predictions\n",
    "\n",
    "def test_prediction(index, W1, b1, W2, b2):\n",
    "    current_image = X_train[:, index, None]\n",
    "    prediction = make_predictions(X_train[:, index, None], W1, b1, W2, b2)\n",
    "    label = Y_train[index]\n",
    "    print(\"Prediction: \", prediction)\n",
    "    print(\"Label: \", label)\n",
    "    \n",
    "    current_image = current_image.reshape((28, 28)) * 255\n",
    "    plt.gray()\n",
    "    plt.imshow(current_image, interpolation='nearest')\n",
    "    plt.show()"
   ]
  },
  {
   "cell_type": "code",
   "execution_count": 20,
   "id": "8ddbf03c",
   "metadata": {},
   "outputs": [
    {
     "name": "stdout",
     "output_type": "stream",
     "text": [
      "Iteration:  0\n",
      "[3 6 0 ... 7 1 7] [5 5 3 ... 3 7 2]\n",
      "0.09007317073170731\n",
      "Iteration:  10\n",
      "[1 3 0 ... 0 1 7] [5 5 3 ... 3 7 2]\n",
      "0.18365853658536585\n",
      "Iteration:  20\n",
      "[7 0 0 ... 0 0 1] [5 5 3 ... 3 7 2]\n",
      "0.2566829268292683\n",
      "Iteration:  30\n",
      "[7 0 0 ... 0 7 1] [5 5 3 ... 3 7 2]\n",
      "0.31570731707317073\n",
      "Iteration:  40\n",
      "[7 0 0 ... 0 7 1] [5 5 3 ... 3 7 2]\n",
      "0.38014634146341464\n",
      "Iteration:  50\n",
      "[7 0 0 ... 0 7 1] [5 5 3 ... 3 7 2]\n",
      "0.432\n",
      "Iteration:  60\n",
      "[7 3 0 ... 0 7 1] [5 5 3 ... 3 7 2]\n",
      "0.48385365853658535\n",
      "Iteration:  70\n",
      "[7 3 0 ... 0 7 1] [5 5 3 ... 3 7 2]\n",
      "0.5269512195121951\n",
      "Iteration:  80\n",
      "[7 3 0 ... 0 7 8] [5 5 3 ... 3 7 2]\n",
      "0.5632195121951219\n",
      "Iteration:  90\n",
      "[7 3 0 ... 0 7 8] [5 5 3 ... 3 7 2]\n",
      "0.5931463414634146\n",
      "Iteration:  100\n",
      "[5 3 0 ... 0 7 8] [5 5 3 ... 3 7 2]\n",
      "0.6181463414634146\n",
      "Iteration:  110\n",
      "[5 3 0 ... 5 7 8] [5 5 3 ... 3 7 2]\n",
      "0.6403658536585366\n",
      "Iteration:  120\n",
      "[5 3 0 ... 5 7 8] [5 5 3 ... 3 7 2]\n",
      "0.6610731707317073\n",
      "Iteration:  130\n",
      "[5 5 0 ... 5 7 8] [5 5 3 ... 3 7 2]\n",
      "0.6767317073170732\n",
      "Iteration:  140\n",
      "[5 5 0 ... 5 7 8] [5 5 3 ... 3 7 2]\n",
      "0.6913658536585365\n",
      "Iteration:  150\n",
      "[5 5 0 ... 5 7 8] [5 5 3 ... 3 7 2]\n",
      "0.7037073170731707\n",
      "Iteration:  160\n",
      "[5 5 0 ... 5 7 8] [5 5 3 ... 3 7 2]\n",
      "0.7153414634146341\n",
      "Iteration:  170\n",
      "[5 5 0 ... 5 7 8] [5 5 3 ... 3 7 2]\n",
      "0.7251951219512195\n",
      "Iteration:  180\n",
      "[5 5 0 ... 5 7 8] [5 5 3 ... 3 7 2]\n",
      "0.7350243902439024\n",
      "Iteration:  190\n",
      "[5 5 0 ... 5 7 8] [5 5 3 ... 3 7 2]\n",
      "0.7441219512195122\n",
      "Iteration:  200\n",
      "[5 5 0 ... 5 7 8] [5 5 3 ... 3 7 2]\n",
      "0.7519268292682927\n",
      "Iteration:  210\n",
      "[5 5 0 ... 5 7 2] [5 5 3 ... 3 7 2]\n",
      "0.7585121951219512\n",
      "Iteration:  220\n",
      "[5 5 3 ... 1 7 2] [5 5 3 ... 3 7 2]\n",
      "0.7642926829268293\n",
      "Iteration:  230\n",
      "[5 5 3 ... 1 7 2] [5 5 3 ... 3 7 2]\n",
      "0.7700731707317073\n",
      "Iteration:  240\n",
      "[5 5 3 ... 1 7 2] [5 5 3 ... 3 7 2]\n",
      "0.7748536585365854\n",
      "Iteration:  250\n",
      "[5 5 3 ... 1 7 2] [5 5 3 ... 3 7 2]\n",
      "0.7799024390243903\n",
      "Iteration:  260\n",
      "[5 5 3 ... 1 7 2] [5 5 3 ... 3 7 2]\n",
      "0.7839512195121952\n",
      "Iteration:  270\n",
      "[5 5 3 ... 1 7 2] [5 5 3 ... 3 7 2]\n",
      "0.7880487804878049\n",
      "Iteration:  280\n",
      "[5 5 3 ... 1 7 2] [5 5 3 ... 3 7 2]\n",
      "0.791609756097561\n",
      "Iteration:  290\n",
      "[5 5 3 ... 1 7 2] [5 5 3 ... 3 7 2]\n",
      "0.7949512195121952\n",
      "Iteration:  300\n",
      "[5 5 3 ... 1 7 2] [5 5 3 ... 3 7 2]\n",
      "0.798\n",
      "Iteration:  310\n",
      "[5 5 3 ... 1 7 2] [5 5 3 ... 3 7 2]\n",
      "0.8007073170731708\n",
      "Iteration:  320\n",
      "[5 5 3 ... 1 7 2] [5 5 3 ... 3 7 2]\n",
      "0.8035121951219513\n",
      "Iteration:  330\n",
      "[5 5 3 ... 1 7 2] [5 5 3 ... 3 7 2]\n",
      "0.8064878048780488\n",
      "Iteration:  340\n",
      "[5 5 3 ... 1 7 2] [5 5 3 ... 3 7 2]\n",
      "0.8085365853658537\n",
      "Iteration:  350\n",
      "[5 5 3 ... 1 7 2] [5 5 3 ... 3 7 2]\n",
      "0.8111219512195122\n",
      "Iteration:  360\n",
      "[5 5 3 ... 1 7 2] [5 5 3 ... 3 7 2]\n",
      "0.8134634146341463\n",
      "Iteration:  370\n",
      "[5 5 3 ... 1 7 2] [5 5 3 ... 3 7 2]\n",
      "0.8158536585365853\n",
      "Iteration:  380\n",
      "[5 5 3 ... 1 7 2] [5 5 3 ... 3 7 2]\n",
      "0.8180487804878048\n",
      "Iteration:  390\n",
      "[5 5 3 ... 1 7 2] [5 5 3 ... 3 7 2]\n",
      "0.8199268292682926\n",
      "Iteration:  400\n",
      "[5 5 3 ... 1 7 2] [5 5 3 ... 3 7 2]\n",
      "0.8217560975609756\n",
      "Iteration:  410\n",
      "[5 5 3 ... 1 7 2] [5 5 3 ... 3 7 2]\n",
      "0.8238048780487804\n",
      "Iteration:  420\n",
      "[5 5 3 ... 1 7 2] [5 5 3 ... 3 7 2]\n",
      "0.8256341463414634\n",
      "Iteration:  430\n",
      "[5 5 3 ... 1 7 2] [5 5 3 ... 3 7 2]\n",
      "0.8272682926829268\n",
      "Iteration:  440\n",
      "[5 5 3 ... 1 7 2] [5 5 3 ... 3 7 2]\n",
      "0.8292926829268292\n",
      "Iteration:  450\n",
      "[5 5 3 ... 1 7 2] [5 5 3 ... 3 7 2]\n",
      "0.8311219512195122\n",
      "Iteration:  460\n",
      "[5 5 3 ... 1 7 2] [5 5 3 ... 3 7 2]\n",
      "0.832390243902439\n",
      "Iteration:  470\n",
      "[5 5 3 ... 1 7 2] [5 5 3 ... 3 7 2]\n",
      "0.8336829268292683\n",
      "Iteration:  480\n",
      "[5 5 3 ... 1 7 2] [5 5 3 ... 3 7 2]\n",
      "0.835\n",
      "Iteration:  490\n",
      "[5 5 3 ... 1 7 2] [5 5 3 ... 3 7 2]\n",
      "0.8365609756097561\n"
     ]
    }
   ],
   "source": [
    "W1, b1, W2, b2 = gradient_descent(X_train, Y_train, 0.10, 500)"
   ]
  },
  {
   "cell_type": "code",
   "execution_count": 26,
   "id": "1c186792",
   "metadata": {},
   "outputs": [
    {
     "name": "stdout",
     "output_type": "stream",
     "text": [
      "Prediction:  [5]\n",
      "Label:  5\n"
     ]
    },
    {
     "data": {
      "image/png": "[encoded data removed]",
      "text/plain": [
       "<Figure size 432x288 with 1 Axes>"
      ]
     },
     "metadata": {
      "needs_background": "light"
     },
     "output_type": "display_data"
    },
    {
     "name": "stdout",
     "output_type": "stream",
     "text": [
      "Prediction:  [5]\n",
      "Label:  5\n"
     ]
    },
    {
     "data": {
      "image/png": "[encoded data removed]",
      "text/plain": [
       "<Figure size 432x288 with 1 Axes>"
      ]
     },
     "metadata": {
      "needs_background": "light"
     },
     "output_type": "display_data"
    },
    {
     "name": "stdout",
     "output_type": "stream",
     "text": [
      "Prediction:  [3]\n",
      "Label:  3\n"
     ]
    },
    {
     "data": {
      "image/png": "[encoded data removed]",
      "text/plain": [
       "<Figure size 432x288 with 1 Axes>"
      ]
     },
     "metadata": {
      "needs_background": "light"
     },
     "output_type": "display_data"
    },
    {
     "name": "stdout",
     "output_type": "stream",
     "text": [
      "Prediction:  [2]\n",
      "Label:  2\n"
     ]
    },
    {
     "data": {
      "image/png": "[encoded data removed]",
      "text/plain": [
       "<Figure size 432x288 with 1 Axes>"
      ]
     },
     "metadata": {
      "needs_background": "light"
     },
     "output_type": "display_data"
    }
   ],
   "source": [
    "test_prediction(4, W1, b1, W2, b2)\n",
    "test_prediction(1, W1, b1, W2, b2)\n",
    "test_prediction(2, W1, b1, W2, b2)\n",
    "test_prediction(3, W1, b1, W2, b2)"
   ]
  },
  {
   "cell_type": "code",
   "execution_count": null,
   "id": "75409ffd",
   "metadata": {},
   "outputs": [],
   "source": []
  }
 ],
 "metadata": {
  "kernelspec": {
   "display_name": "Python 3 (ipykernel)",
   "language": "python",
   "name": "python3"
  },
  "language_info": {
   "codemirror_mode": {
    "name": "ipython",
    "version": 3
   },
   "file_extension": ".py",
   "mimetype": "text/x-python",
   "name": "python",
   "nbconvert_exporter": "python",
   "pygments_lexer": "ipython3",
   "version": "3.9.12"
  }
 },
 "nbformat": 4,
 "nbformat_minor": 5
}
