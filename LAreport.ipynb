{
 "cells": [
  {
   "cell_type": "markdown",
   "id": "d41bf593",
   "metadata": {},
   "source": [
    "# Neural Network from scratch using Numpy\n",
    "\n",
    "Vraj Desai - AU2140231\n",
    "\n",
    "Tejas Pansuriya - AU2140101\n",
    "\n",
    "Saumya Shah - AU2140165\n",
    "\n",
    "Om Dave - AU2140169\n",
    "\n",
    "Vats Patel - AU2140183"
   ]
  },
  {
   "cell_type": "markdown",
   "id": "c46c1251",
   "metadata": {},
   "source": [
    "## Astract"
   ]
  },
  {
   "cell_type": "markdown",
   "id": "83888450",
   "metadata": {},
   "source": [
    "In this project, Ko-honen's self-organizing feature map and other artificial neural networks were visualised using a handwritten digit recognition system. This project's goal was to introduce neural networks to the general public through a use case that would be relatively simple to comprehend."
   ]
  },
  {
   "cell_type": "markdown",
   "id": "05be8dd6",
   "metadata": {},
   "source": [
    "## Introduction"
   ]
  },
  {
   "cell_type": "markdown",
   "id": "2d3c8a94",
   "metadata": {},
   "source": [
    " The automatic processing of bank checks, postal addresses, etc. already makes full use of handwritten digit recognition. While some of the existing systems use computational intelligence methods like artificial neural networks or fuzzy logic, others might just be big lookup tables with potential handwritten digit realisations.\n",
    " \n",
    "Artiﬁcial neural networks have been developed since the 1940s, but only thepast ﬁfteen years have they been widely applied in a large variety of disciplines.Originating from the artiﬁcial neuron, which is a simple mathematical model ofa biological neuron, many varieties of neural networks exist nowadays. Althoughsome are implemented in hardware, the majority are simulated in software."
   ]
  },
  {
   "cell_type": "markdown",
   "id": "fb8bf740",
   "metadata": {},
   "source": [
    "## Implementation"
   ]
  },
  {
   "cell_type": "markdown",
   "id": "5716cc18",
   "metadata": {},
   "source": [
    "In this project, the pixels of the image is converted into the matrix form."
   ]
  },
  {
   "cell_type": "markdown",
   "id": "9e9469dc",
   "metadata": {},
   "source": [
    "## Conclusion"
   ]
  },
  {
   "cell_type": "markdown",
   "id": "f29be586",
   "metadata": {},
   "source": [
    "This project shows that a Kohonen self-organizing map can be used to recognizedigits when given those digits in fragments without positional information. TheKohonen self-organizing map and the handwritten digit recognition have alsoproven to be a good neural network architecture and application for the purposeof introducing and demonstrating neural networks to the general public."
   ]
  },
  {
   "cell_type": "markdown",
   "id": "8686e41b",
   "metadata": {},
   "source": [
    "## IMP functions"
   ]
  },
  {
   "cell_type": "code",
   "execution_count": null,
   "id": "3e438abd",
   "metadata": {},
   "outputs": [],
   "source": [
    "def init_parameters():\n",
    "    W1 = np.random.rand(10, 784) - 0.5\n",
    "    b1 = np.random.rand(10, 1) - 0.5\n",
    "    W2 = np.random.rand(10, 10) - 0.5\n",
    "    b2 = np.random.rand(10, 1) - 0.5\n",
    "    return W1, b1, W2, b2\n",
    "\n",
    "def relU(Z):\n",
    "    return np.maximum(Z, 0)\n",
    "\n",
    "def softMax(Z):\n",
    "    A = np.exp(Z) / sum(np.exp(Z))\n",
    "    return A\n",
    "    \n",
    "def relU_derivative(Z):\n",
    "    return Z > 0\n",
    "\n",
    "def one_hot_en(Y):\n",
    "    one_hot_en_Y = np.zeros((Y.size, Y.max() + 1))\n",
    "    one_hot_en_Y[np.arange(Y.size), Y] = 1\n",
    "    one_hot_en_Y = one_hot_en_Y.T\n",
    "    return one_hot_en_Y\n",
    "\n",
    "def forward_propogation(W1, b1, W2, b2, X):\n",
    "    Z1 = W1.dot(X) + b1\n",
    "    A1 = relU(Z1)\n",
    "    Z2 = W2.dot(A1) + b2\n",
    "    A2 = softMax(Z2)\n",
    "    return Z1, A1, Z2, A2\n",
    "\n",
    "def backward_propogation(Z1, A1, Z2, A2, W1, W2, X, Y):\n",
    "    one_hot_en_Y = one_hot_en(Y)\n",
    "    dZ2 = A2 - one_hot_en_Y\n",
    "    dW2 = 1 / m * dZ2.dot(A1.T)\n",
    "    db2 = 1 / m * np.sum(dZ2)\n",
    "    dZ1 = W2.T.dot(dZ2) * relU_derivative(Z1)\n",
    "    dW1 = 1 / m * dZ1.dot(X.T)\n",
    "    db1 = 1 / m * np.sum(dZ1)\n",
    "    return dW1, db1, dW2, db2\n",
    "\n",
    "def update_parameters(W1, b1, W2, b2, dW1, db1, dW2, db2, alpha):\n",
    "    W1 = W1 - alpha * dW1\n",
    "    b1 = b1 - alpha * db1    \n",
    "    W2 = W2 - alpha * dW2  \n",
    "    b2 = b2 - alpha * db2    \n",
    "    return W1, b1, W2, b2"
   ]
  }
 ],
 "metadata": {
  "kernelspec": {
   "display_name": "Python 3 (ipykernel)",
   "language": "python",
   "name": "python3"
  },
  "language_info": {
   "codemirror_mode": {
    "name": "ipython",
    "version": 3
   },
   "file_extension": ".py",
   "mimetype": "text/x-python",
   "name": "python",
   "nbconvert_exporter": "python",
   "pygments_lexer": "ipython3",
   "version": "3.9.12"
  }
 },
 "nbformat": 4,
 "nbformat_minor": 5
}
